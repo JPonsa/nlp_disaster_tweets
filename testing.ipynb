{
 "cells": [
  {
   "cell_type": "code",
   "execution_count": null,
   "metadata": {},
   "outputs": [],
   "source": [
    "import numpy as np\n",
    "import pandas as pd\n",
    "from tqdm import tqdm\n",
    "from wordcloud import STOPWORDS\n",
    "\n",
    "from sklearn.metrics import classification_report\n",
    "from sklearn.model_selection import train_test_split\n",
    "from nltk.tokenize import word_tokenize\n",
    "from keras.preprocessing.text import Tokenizer\n",
    "from keras.utils import pad_sequences\n",
    "\n",
    "import matplotlib.pyplot as plt\n",
    "from sklearn.metrics import ConfusionMatrixDisplay"
   ]
  },
  {
   "cell_type": "code",
   "execution_count": null,
   "metadata": {},
   "outputs": [],
   "source": [
    "from scr.models.embeddings import read_glove_embeddings, create_embeddings_matrix, build_embeddings\n",
    "from scr.models.models import build_NN, build_DistilBert, train_model\n",
    "from scr.models.metrics import performance_history"
   ]
  },
  {
   "cell_type": "code",
   "execution_count": null,
   "metadata": {},
   "outputs": [],
   "source": [
    "\n",
    "def cm_plot(y_true, y_pred):\n",
    "    fig, ax = plt.subplots(1, 2, sharey=True, figsize=(5, 3))\n",
    "    ConfusionMatrixDisplay.from_predictions(y_true, y_pred, ax=ax[0], colorbar=False)\n",
    "    ConfusionMatrixDisplay.from_predictions(\n",
    "        y_true,\n",
    "        y_pred,\n",
    "        normalize=\"true\",\n",
    "        values_format=\".2f\",\n",
    "        ax=ax[1],\n",
    "        im_kw={\"vmin\": 0, \"vmax\": 1},\n",
    "        colorbar=False,\n",
    "    )\n",
    "    fig.suptitle(\"Confusion Matrix\")\n",
    "    ax[0].set_title(\"Counts\")\n",
    "    ax[1].set_title(\"Proportions\")\n",
    "    ax[1].set_ylabel(None)\n",
    "    #plt.savefig(\"../figures/40.binary_confusion_matrix.png\")"
   ]
  },
  {
   "cell_type": "code",
   "execution_count": null,
   "metadata": {},
   "outputs": [],
   "source": [
    "raw = pd.read_csv(\"./data/raw/train.csv\")\n",
    "\n",
    "clean = pd.read_csv(\"./data/clean/train.csv\")\n",
    "clean = clean.dropna()\n",
    "\n",
    "X= clean[\"text\"]\n",
    "y = clean[\"target\"].values\n",
    "\n",
    "# X= raw[\"text\"]\n",
    "# y = raw[\"target\"].values\n",
    "\n",
    "MAX_LEN=32\n",
    "tokenizer = Tokenizer(oov_token=\"<OOV>\")\n",
    "tokenizer.fit_on_texts(X)\n",
    "\n",
    "X_train, X_val, y_train, y_val = train_test_split(X, y, test_size=0.2, random_state=42)\n",
    "\n",
    "# X_train_pad = preprocessing(X_train, tokenizer, MAX_LEN)\n",
    "# X_val_pad = preprocessing(X_val, tokenizer, MAX_LEN)"
   ]
  },
  {
   "cell_type": "code",
   "execution_count": null,
   "metadata": {},
   "outputs": [],
   "source": [
    "trained_model = {}"
   ]
  },
  {
   "cell_type": "markdown",
   "metadata": {},
   "source": [
    "DistilBert"
   ]
  },
  {
   "cell_type": "code",
   "execution_count": null,
   "metadata": {},
   "outputs": [],
   "source": [
    "glove_embeddings_dict = read_glove_embeddings(\"./models/embeddings/glove.6B/glove.6B.100d.txt\")\n",
    "embeddings_matrix = create_embeddings_matrix(tokenizer, glove_embeddings_dict, 100)\n",
    "embeddings_layer = build_embeddings(embeddings_matrix, 32)"
   ]
  },
  {
   "cell_type": "code",
   "execution_count": null,
   "metadata": {},
   "outputs": [],
   "source": [
    "for flavour in [\"LSTM\", \"GRU\", \"RNN\"]:\n",
    "    \n",
    "    print(f\"====== {flavour} ======\")\n",
    "\n",
    "    model = build_NN(embeddings_layer,tokenizer,flavour=flavour)\n",
    "    model, history = train_model(model, X_train, y_train, X_val, y_val, epoch=100)\n",
    "    trained_model[flavour] = model\n",
    "    performance_history(history, name=flavour, directory_path=\"./figures/\")\n",
    "    plt.show()\n",
    "    \n",
    "    y_pred = model.predict(X_val)\n",
    "    y_pred = y_pred = np.argmax(y_pred, axis=1)\n",
    "    print(classification_report(y_val, y_pred))\n",
    "\n",
    "    cm_plot(y_val, y_pred)\n",
    "    plt.savefig(f\"./figures/{flavour}.confusion_matrix.png\")\n",
    "    plt.show()\n",
    "    \n",
    "    break"
   ]
  },
  {
   "cell_type": "code",
   "execution_count": null,
   "metadata": {},
   "outputs": [],
   "source": [
    "from sklearn.metrics import roc_auc_score, roc_curve\n",
    "import matplotlib.pyplot as plt\n",
    "\n",
    "\n",
    "# Calculate ROC AUC scores for each model\n",
    "\n",
    "model_auc = []\n",
    "\n",
    "fig, ax = plt.subplots(1,2, figsize=(6, 3), width_ratios=(3,1))\n",
    "\n",
    "for name in trained_model.keys():\n",
    "    if name == \"distilBert\":\n",
    "        y_pred_proba = trained_model[name].predict(X_val)\n",
    "    else:\n",
    "        y_pred_proba = trained_model[name].predict(X_val_pad)\n",
    "    \n",
    "    fpr, tpr, _ = roc_curve(y_val,  y_pred_proba[:,1])\n",
    "    y_pred = np.argmax(y_pred_proba, axis=1)\n",
    "    auc = roc_auc_score(y_val, y_pred)\n",
    "    model_auc.append(auc)\n",
    "    ax[0].plot(fpr,tpr,label=f\"{name}, AUC = {auc:.2f}\")\n",
    "    \n",
    "\n",
    "ax[0].legend(loc='lower right')\n",
    "ax[0].set_title(\"Receiver Operating Characteristic (ROC) Curve\", size=10)\n",
    "ax[0].set_xlabel(\"FPR\")\n",
    "ax[0].set_ylabel(\"TPR\")\n",
    "\n",
    "# Plot ROC AUC scores\n",
    "ax[1].barh(list(trained_model.keys())[::-1],model_auc[::-1])\n",
    "ax[1].set_xlim(0.5, 1)\n",
    "ax[1].set_ylabel(\"Model\")\n",
    "ax[1].set_xlabel(\"AUC\")\n",
    "ax[1].set_title(\"ROC Area Under\\nCurve (AUC)\", size=10)\n",
    "\n",
    "plt.tight_layout()\n",
    "plt.savefig(\"./figures/Model.competition.png\")\n",
    "plt.show()\n"
   ]
  },
  {
   "cell_type": "code",
   "execution_count": 16,
   "metadata": {},
   "outputs": [],
   "source": [
    "import pandas as pd\n",
    "df = pd.read_csv(\"./data/clean/test.csv\")\n",
    "X = df[\"text\"].dropna()"
   ]
  },
  {
   "cell_type": "code",
   "execution_count": 9,
   "metadata": {},
   "outputs": [],
   "source": [
    "from scr.models.preprocessing import preprocessing"
   ]
  },
  {
   "cell_type": "code",
   "execution_count": 3,
   "metadata": {},
   "outputs": [],
   "source": [
    "preprocessing_path = \"./models/tokenizer.pkl\"\n",
    "with open(preprocessing_path, \"rb\") as file:\n",
    "    tokenizer = pickle.load(file)"
   ]
  },
  {
   "cell_type": "code",
   "execution_count": 17,
   "metadata": {},
   "outputs": [],
   "source": [
    "for x in X:\n",
    "    preprocessing(pd.Series(x), tokenizer, 32)"
   ]
  },
  {
   "cell_type": "code",
   "execution_count": 20,
   "metadata": {},
   "outputs": [
    {
     "data": {
      "text/plain": [
       "0                             happened terrible car crash\n",
       "1       heard earthquake different cities stay safe ev...\n",
       "2       forest fire spot pond geese fleeing across str...\n",
       "3                   apocalypse lighting spokane wildfires\n",
       "4                     typhoon soudelor kills china taiwan\n",
       "                              ...                        \n",
       "3258    earthquake safety los angeles safety fasteners...\n",
       "3259    storm ri worse last hurricane others hardest h...\n",
       "3260                        green line derailment chicago\n",
       "3261             meg issues hazardous weather outlook hwo\n",
       "3262    city calgary activated municipal emergency pla...\n",
       "Name: text, Length: 3259, dtype: object"
      ]
     },
     "execution_count": 20,
     "metadata": {},
     "output_type": "execute_result"
    }
   ],
   "source": [
    "X"
   ]
  },
  {
   "cell_type": "code",
   "execution_count": null,
   "metadata": {},
   "outputs": [],
   "source": []
  }
 ],
 "metadata": {
  "kernelspec": {
   "display_name": "nlp",
   "language": "python",
   "name": "python3"
  },
  "language_info": {
   "codemirror_mode": {
    "name": "ipython",
    "version": 3
   },
   "file_extension": ".py",
   "mimetype": "text/x-python",
   "name": "python",
   "nbconvert_exporter": "python",
   "pygments_lexer": "ipython3",
   "version": "3.10.8"
  }
 },
 "nbformat": 4,
 "nbformat_minor": 2
}
